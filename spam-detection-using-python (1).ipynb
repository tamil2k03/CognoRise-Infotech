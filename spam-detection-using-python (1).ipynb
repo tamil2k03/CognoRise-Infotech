{
 "cells": [
  {
   "cell_type": "markdown",
   "id": "4e40f569",
   "metadata": {
    "id": "7da328b8",
    "papermill": {
     "duration": 0.012912,
     "end_time": "2023-10-31T07:42:25.328444",
     "exception": false,
     "start_time": "2023-10-31T07:42:25.315532",
     "status": "completed"
    },
    "tags": []
   },
   "source": [
    "\n",
    "Problem Statement :\n",
    "We’ve all been the recipient of spam emails before. Spam mail, or junk mail, is a type of email\n",
    "that is sent to a massive number of users at one time, frequently containing cryptic\n",
    "messages, scams, or most dangerously, phishing content.\n",
    "\n",
    "\n",
    "\n",
    "In this Project, use Python to build an email spam detector. Then, use machine learning to\n",
    "train the spam detector to recognize and classify emails into spam and non-spam. Let’s get\n",
    "started!\n",
    "\n",
    "download dataset using this link : https://www.kaggle.com/datasets/uciml/sms-spam-collection-dataset/"
   ]
  },
  {
   "cell_type": "markdown",
   "id": "2d8029af",
   "metadata": {
    "id": "Y1Fgu_Va2cAI",
    "papermill": {
     "duration": 0.012272,
     "end_time": "2023-10-31T07:42:25.353156",
     "exception": false,
     "start_time": "2023-10-31T07:42:25.340884",
     "status": "completed"
    },
    "tags": []
   },
   "source": [
    "data description : The SMS Spam Collection is a set of SMS tagged messages that have been collected for SMS Spam research. It contains one set of SMS messages in English of 5,574 messages, tagged acording being ham (legitimate)/Not-spam or spam."
   ]
  },
  {
   "cell_type": "markdown",
   "id": "0df893e7",
   "metadata": {
    "papermill": {
     "duration": 0.011624,
     "end_time": "2023-10-31T07:42:25.377385",
     "exception": false,
     "start_time": "2023-10-31T07:42:25.365761",
     "status": "completed"
    },
    "tags": []
   },
   "source": [
    "Author : Aditya Raj Sisodiya\n",
    "Connect with me on linkedin https://www.linkedin.com/in/adityarajsisodiya/ and subscribe my youtube channel https://www.youtube.com/@datasciencewithaditya to get more updates regarding data science and ai."
   ]
  },
  {
   "cell_type": "code",
   "execution_count": 2,
   "id": "d7218fee",
   "metadata": {
    "execution": {
     "iopub.execute_input": "2023-10-31T07:42:25.402985Z",
     "iopub.status.busy": "2023-10-31T07:42:25.402633Z",
     "iopub.status.idle": "2023-10-31T07:42:27.834319Z",
     "shell.execute_reply": "2023-10-31T07:42:27.833538Z"
    },
    "id": "22f53326",
    "papermill": {
     "duration": 2.447299,
     "end_time": "2023-10-31T07:42:27.836646",
     "exception": false,
     "start_time": "2023-10-31T07:42:25.389347",
     "status": "completed"
    },
    "tags": []
   },
   "outputs": [],
   "source": [
    "import pandas as pd\n",
    "import numpy as np\n",
    "from matplotlib import pyplot as plt\n",
    "import seaborn as sns\n",
    "import nltk\n",
    "import os\n",
    "sns.set_style('whitegrid')\n",
    "import warnings\n",
    "warnings.filterwarnings('ignore')"
   ]
  },
  {
   "cell_type": "code",
   "execution_count": 3,
   "id": "6662f9cc",
   "metadata": {
    "execution": {
     "iopub.execute_input": "2023-10-31T07:42:27.862071Z",
     "iopub.status.busy": "2023-10-31T07:42:27.861095Z",
     "iopub.status.idle": "2023-10-31T07:42:27.901283Z",
     "shell.execute_reply": "2023-10-31T07:42:27.900451Z"
    },
    "id": "8e983360",
    "papermill": {
     "duration": 0.054813,
     "end_time": "2023-10-31T07:42:27.903435",
     "exception": false,
     "start_time": "2023-10-31T07:42:27.848622",
     "status": "completed"
    },
    "tags": []
   },
   "outputs": [],
   "source": [
    "#load dataset from csv file and use encoding as latin-1\n",
    "email_df=pd.read_csv(\"C:/Users/HP BOOK/Downloads/archive (3)/spam.csv\",encoding='latin-1')"
   ]
  },
  {
   "cell_type": "code",
   "execution_count": 4,
   "id": "5eaceab0",
   "metadata": {
    "execution": {
     "iopub.execute_input": "2023-10-31T07:42:27.929121Z",
     "iopub.status.busy": "2023-10-31T07:42:27.928673Z",
     "iopub.status.idle": "2023-10-31T07:42:27.946581Z",
     "shell.execute_reply": "2023-10-31T07:42:27.945965Z"
    },
    "id": "0778228b",
    "outputId": "ad819ffd-cff0-4cf3-f5a7-e7094b0cd918",
    "papermill": {
     "duration": 0.032806,
     "end_time": "2023-10-31T07:42:27.948426",
     "exception": false,
     "start_time": "2023-10-31T07:42:27.915620",
     "status": "completed"
    },
    "tags": []
   },
   "outputs": [
    {
     "data": {
      "text/html": [
       "<div>\n",
       "<style scoped>\n",
       "    .dataframe tbody tr th:only-of-type {\n",
       "        vertical-align: middle;\n",
       "    }\n",
       "\n",
       "    .dataframe tbody tr th {\n",
       "        vertical-align: top;\n",
       "    }\n",
       "\n",
       "    .dataframe thead th {\n",
       "        text-align: right;\n",
       "    }\n",
       "</style>\n",
       "<table border=\"1\" class=\"dataframe\">\n",
       "  <thead>\n",
       "    <tr style=\"text-align: right;\">\n",
       "      <th></th>\n",
       "      <th>v1</th>\n",
       "      <th>v2</th>\n",
       "      <th>Unnamed: 2</th>\n",
       "      <th>Unnamed: 3</th>\n",
       "      <th>Unnamed: 4</th>\n",
       "    </tr>\n",
       "  </thead>\n",
       "  <tbody>\n",
       "    <tr>\n",
       "      <th>0</th>\n",
       "      <td>ham</td>\n",
       "      <td>Go until jurong point, crazy.. Available only ...</td>\n",
       "      <td>NaN</td>\n",
       "      <td>NaN</td>\n",
       "      <td>NaN</td>\n",
       "    </tr>\n",
       "    <tr>\n",
       "      <th>1</th>\n",
       "      <td>ham</td>\n",
       "      <td>Ok lar... Joking wif u oni...</td>\n",
       "      <td>NaN</td>\n",
       "      <td>NaN</td>\n",
       "      <td>NaN</td>\n",
       "    </tr>\n",
       "    <tr>\n",
       "      <th>2</th>\n",
       "      <td>spam</td>\n",
       "      <td>Free entry in 2 a wkly comp to win FA Cup fina...</td>\n",
       "      <td>NaN</td>\n",
       "      <td>NaN</td>\n",
       "      <td>NaN</td>\n",
       "    </tr>\n",
       "    <tr>\n",
       "      <th>3</th>\n",
       "      <td>ham</td>\n",
       "      <td>U dun say so early hor... U c already then say...</td>\n",
       "      <td>NaN</td>\n",
       "      <td>NaN</td>\n",
       "      <td>NaN</td>\n",
       "    </tr>\n",
       "    <tr>\n",
       "      <th>4</th>\n",
       "      <td>ham</td>\n",
       "      <td>Nah I don't think he goes to usf, he lives aro...</td>\n",
       "      <td>NaN</td>\n",
       "      <td>NaN</td>\n",
       "      <td>NaN</td>\n",
       "    </tr>\n",
       "  </tbody>\n",
       "</table>\n",
       "</div>"
      ],
      "text/plain": [
       "     v1                                                 v2 Unnamed: 2  \\\n",
       "0   ham  Go until jurong point, crazy.. Available only ...        NaN   \n",
       "1   ham                      Ok lar... Joking wif u oni...        NaN   \n",
       "2  spam  Free entry in 2 a wkly comp to win FA Cup fina...        NaN   \n",
       "3   ham  U dun say so early hor... U c already then say...        NaN   \n",
       "4   ham  Nah I don't think he goes to usf, he lives aro...        NaN   \n",
       "\n",
       "  Unnamed: 3 Unnamed: 4  \n",
       "0        NaN        NaN  \n",
       "1        NaN        NaN  \n",
       "2        NaN        NaN  \n",
       "3        NaN        NaN  \n",
       "4        NaN        NaN  "
      ]
     },
     "execution_count": 4,
     "metadata": {},
     "output_type": "execute_result"
    }
   ],
   "source": [
    "#print first 5 records\n",
    "email_df.head()"
   ]
  },
  {
   "cell_type": "code",
   "execution_count": 5,
   "id": "73208eaa",
   "metadata": {
    "execution": {
     "iopub.execute_input": "2023-10-31T07:42:27.974959Z",
     "iopub.status.busy": "2023-10-31T07:42:27.974351Z",
     "iopub.status.idle": "2023-10-31T07:42:27.998393Z",
     "shell.execute_reply": "2023-10-31T07:42:27.997123Z"
    },
    "id": "6546deda",
    "outputId": "36a085aa-2aa3-4fa5-a521-18df504d2838",
    "papermill": {
     "duration": 0.039525,
     "end_time": "2023-10-31T07:42:28.000631",
     "exception": false,
     "start_time": "2023-10-31T07:42:27.961106",
     "status": "completed"
    },
    "tags": []
   },
   "outputs": [
    {
     "name": "stdout",
     "output_type": "stream",
     "text": [
      "<class 'pandas.core.frame.DataFrame'>\n",
      "RangeIndex: 5572 entries, 0 to 5571\n",
      "Data columns (total 5 columns):\n",
      " #   Column      Non-Null Count  Dtype \n",
      "---  ------      --------------  ----- \n",
      " 0   v1          5572 non-null   object\n",
      " 1   v2          5572 non-null   object\n",
      " 2   Unnamed: 2  50 non-null     object\n",
      " 3   Unnamed: 3  12 non-null     object\n",
      " 4   Unnamed: 4  6 non-null      object\n",
      "dtypes: object(5)\n",
      "memory usage: 217.8+ KB\n"
     ]
    }
   ],
   "source": [
    "#print concise summary about dataset.\n",
    "email_df.info()"
   ]
  },
  {
   "cell_type": "code",
   "execution_count": 6,
   "id": "efeee632",
   "metadata": {
    "execution": {
     "iopub.execute_input": "2023-10-31T07:42:28.029111Z",
     "iopub.status.busy": "2023-10-31T07:42:28.028234Z",
     "iopub.status.idle": "2023-10-31T07:42:28.037817Z",
     "shell.execute_reply": "2023-10-31T07:42:28.036717Z"
    },
    "id": "331f188e",
    "papermill": {
     "duration": 0.026246,
     "end_time": "2023-10-31T07:42:28.040046",
     "exception": false,
     "start_time": "2023-10-31T07:42:28.013800",
     "status": "completed"
    },
    "tags": []
   },
   "outputs": [],
   "source": [
    "#lets delete Unnamed : 2 , Unnamed : 3 and Unnamed : 4 column because they are having zero values in almost entire column.\n",
    "column_to_delete=[name for name in email_df.columns if name.startswith('Unnamed')]\n",
    "email_df.drop(columns=column_to_delete,inplace=True)"
   ]
  },
  {
   "cell_type": "code",
   "execution_count": 7,
   "id": "51654fae",
   "metadata": {
    "execution": {
     "iopub.execute_input": "2023-10-31T07:42:28.069054Z",
     "iopub.status.busy": "2023-10-31T07:42:28.068690Z",
     "iopub.status.idle": "2023-10-31T07:42:28.074216Z",
     "shell.execute_reply": "2023-10-31T07:42:28.073236Z"
    },
    "id": "954b39bb",
    "papermill": {
     "duration": 0.021713,
     "end_time": "2023-10-31T07:42:28.076231",
     "exception": false,
     "start_time": "2023-10-31T07:42:28.054518",
     "status": "completed"
    },
    "tags": []
   },
   "outputs": [],
   "source": [
    "#rename v1 column to target and v2 column to message\n",
    "email_df.rename(columns=dict({\"v1\":\"target\",\"v2\":\"message\"}),inplace=True)"
   ]
  },
  {
   "cell_type": "code",
   "execution_count": 8,
   "id": "2b1c75ed",
   "metadata": {
    "execution": {
     "iopub.execute_input": "2023-10-31T07:42:28.102338Z",
     "iopub.status.busy": "2023-10-31T07:42:28.101784Z",
     "iopub.status.idle": "2023-10-31T07:42:28.109951Z",
     "shell.execute_reply": "2023-10-31T07:42:28.109339Z"
    },
    "id": "ff557d9d",
    "outputId": "15169c42-2864-4f63-93f2-cba551951a13",
    "papermill": {
     "duration": 0.022683,
     "end_time": "2023-10-31T07:42:28.111680",
     "exception": false,
     "start_time": "2023-10-31T07:42:28.088997",
     "status": "completed"
    },
    "tags": []
   },
   "outputs": [
    {
     "data": {
      "text/html": [
       "<div>\n",
       "<style scoped>\n",
       "    .dataframe tbody tr th:only-of-type {\n",
       "        vertical-align: middle;\n",
       "    }\n",
       "\n",
       "    .dataframe tbody tr th {\n",
       "        vertical-align: top;\n",
       "    }\n",
       "\n",
       "    .dataframe thead th {\n",
       "        text-align: right;\n",
       "    }\n",
       "</style>\n",
       "<table border=\"1\" class=\"dataframe\">\n",
       "  <thead>\n",
       "    <tr style=\"text-align: right;\">\n",
       "      <th></th>\n",
       "      <th>target</th>\n",
       "      <th>message</th>\n",
       "    </tr>\n",
       "  </thead>\n",
       "  <tbody>\n",
       "    <tr>\n",
       "      <th>5567</th>\n",
       "      <td>spam</td>\n",
       "      <td>This is the 2nd time we have tried 2 contact u...</td>\n",
       "    </tr>\n",
       "    <tr>\n",
       "      <th>5568</th>\n",
       "      <td>ham</td>\n",
       "      <td>Will Ì_ b going to esplanade fr home?</td>\n",
       "    </tr>\n",
       "    <tr>\n",
       "      <th>5569</th>\n",
       "      <td>ham</td>\n",
       "      <td>Pity, * was in mood for that. So...any other s...</td>\n",
       "    </tr>\n",
       "    <tr>\n",
       "      <th>5570</th>\n",
       "      <td>ham</td>\n",
       "      <td>The guy did some bitching but I acted like i'd...</td>\n",
       "    </tr>\n",
       "    <tr>\n",
       "      <th>5571</th>\n",
       "      <td>ham</td>\n",
       "      <td>Rofl. Its true to its name</td>\n",
       "    </tr>\n",
       "  </tbody>\n",
       "</table>\n",
       "</div>"
      ],
      "text/plain": [
       "     target                                            message\n",
       "5567   spam  This is the 2nd time we have tried 2 contact u...\n",
       "5568    ham              Will Ì_ b going to esplanade fr home?\n",
       "5569    ham  Pity, * was in mood for that. So...any other s...\n",
       "5570    ham  The guy did some bitching but I acted like i'd...\n",
       "5571    ham                         Rofl. Its true to its name"
      ]
     },
     "execution_count": 8,
     "metadata": {},
     "output_type": "execute_result"
    }
   ],
   "source": [
    "#after deleting and renaming columns print last 5 records of the dataset\n",
    "email_df.tail()"
   ]
  },
  {
   "cell_type": "code",
   "execution_count": 9,
   "id": "7f933c7f",
   "metadata": {
    "execution": {
     "iopub.execute_input": "2023-10-31T07:42:28.138600Z",
     "iopub.status.busy": "2023-10-31T07:42:28.138021Z",
     "iopub.status.idle": "2023-10-31T07:42:28.145889Z",
     "shell.execute_reply": "2023-10-31T07:42:28.145150Z"
    },
    "id": "09641198",
    "outputId": "03722dbc-4da1-4fa6-f6aa-b274dc005310",
    "papermill": {
     "duration": 0.023635,
     "end_time": "2023-10-31T07:42:28.147744",
     "exception": false,
     "start_time": "2023-10-31T07:42:28.124109",
     "status": "completed"
    },
    "tags": []
   },
   "outputs": [
    {
     "data": {
      "text/plain": [
       "target     0\n",
       "message    0\n",
       "dtype: int64"
      ]
     },
     "execution_count": 9,
     "metadata": {},
     "output_type": "execute_result"
    }
   ],
   "source": [
    "#print null values\n",
    "email_df.isnull().sum()"
   ]
  },
  {
   "cell_type": "code",
   "execution_count": 10,
   "id": "902bfbbb",
   "metadata": {
    "execution": {
     "iopub.execute_input": "2023-10-31T07:42:28.175988Z",
     "iopub.status.busy": "2023-10-31T07:42:28.175570Z",
     "iopub.status.idle": "2023-10-31T07:42:28.187691Z",
     "shell.execute_reply": "2023-10-31T07:42:28.186137Z"
    },
    "id": "07b5c80d",
    "outputId": "f7d60ea9-80e3-43bd-c7b4-2759eabc7fc2",
    "papermill": {
     "duration": 0.028598,
     "end_time": "2023-10-31T07:42:28.189743",
     "exception": false,
     "start_time": "2023-10-31T07:42:28.161145",
     "status": "completed"
    },
    "tags": []
   },
   "outputs": [
    {
     "name": "stdout",
     "output_type": "stream",
     "text": [
      "Total duplicated records in dataset are : 403\n"
     ]
    }
   ],
   "source": [
    "#print no of duplicate records\n",
    "print(\"Total duplicated records in dataset are : {}\".format(email_df.duplicated().sum()))"
   ]
  },
  {
   "cell_type": "code",
   "execution_count": 11,
   "id": "dd2c4eb3",
   "metadata": {
    "execution": {
     "iopub.execute_input": "2023-10-31T07:42:28.217269Z",
     "iopub.status.busy": "2023-10-31T07:42:28.216633Z",
     "iopub.status.idle": "2023-10-31T07:42:28.224355Z",
     "shell.execute_reply": "2023-10-31T07:42:28.223731Z"
    },
    "id": "0b168aed",
    "papermill": {
     "duration": 0.023514,
     "end_time": "2023-10-31T07:42:28.226446",
     "exception": false,
     "start_time": "2023-10-31T07:42:28.202932",
     "status": "completed"
    },
    "tags": []
   },
   "outputs": [],
   "source": [
    "#lets remove duplicated records\n",
    "email_df.drop_duplicates(inplace=True)"
   ]
  },
  {
   "cell_type": "markdown",
   "id": "9480496f",
   "metadata": {
    "id": "1f3f9a78",
    "papermill": {
     "duration": 0.012313,
     "end_time": "2023-10-31T07:42:28.251068",
     "exception": false,
     "start_time": "2023-10-31T07:42:28.238755",
     "status": "completed"
    },
    "tags": []
   },
   "source": [
    "# Data Preprocessing :\n",
    "        1. target : map spam to 0 and ham/not-spam to 1\n",
    "        2. message : 1. lower case\n",
    "                     2. tokenization\n",
    "                     3. remove stop words and punctuation\n",
    "                     4. stemizing : reduce the word to its root form."
   ]
  },
  {
   "cell_type": "code",
   "execution_count": 12,
   "id": "19b8409c",
   "metadata": {
    "execution": {
     "iopub.execute_input": "2023-10-31T07:42:28.276682Z",
     "iopub.status.busy": "2023-10-31T07:42:28.276385Z",
     "iopub.status.idle": "2023-10-31T07:42:28.285577Z",
     "shell.execute_reply": "2023-10-31T07:42:28.284453Z"
    },
    "id": "1418c539",
    "papermill": {
     "duration": 0.024261,
     "end_time": "2023-10-31T07:42:28.287520",
     "exception": false,
     "start_time": "2023-10-31T07:42:28.263259",
     "status": "completed"
    },
    "tags": []
   },
   "outputs": [],
   "source": [
    "#function to map target with 0 and 1\n",
    "def target_mapper(text):\n",
    "    return 0 if text=='spam' else 1\n",
    "\n",
    "email_df[\"target\"]=email_df['target'].apply(func=target_mapper)"
   ]
  },
  {
   "cell_type": "code",
   "execution_count": 13,
   "id": "301547c4",
   "metadata": {
    "execution": {
     "iopub.execute_input": "2023-10-31T07:42:28.313591Z",
     "iopub.status.busy": "2023-10-31T07:42:28.313048Z",
     "iopub.status.idle": "2023-10-31T07:42:28.484916Z",
     "shell.execute_reply": "2023-10-31T07:42:28.483912Z"
    },
    "id": "ffb808cf",
    "outputId": "c5d3e877-70f7-4ebb-cc6c-d1eefa607af2",
    "papermill": {
     "duration": 0.187649,
     "end_time": "2023-10-31T07:42:28.487047",
     "exception": false,
     "start_time": "2023-10-31T07:42:28.299398",
     "status": "completed"
    },
    "tags": []
   },
   "outputs": [
    {
     "name": "stderr",
     "output_type": "stream",
     "text": [
      "[nltk_data] Error loading punkt: <urlopen error [Errno 11001]\n",
      "[nltk_data]     getaddrinfo failed>\n",
      "[nltk_data] Error loading stopwords: <urlopen error [Errno 11001]\n",
      "[nltk_data]     getaddrinfo failed>\n"
     ]
    },
    {
     "ename": "LookupError",
     "evalue": "\n**********************************************************************\n  Resource \u001b[93mstopwords\u001b[0m not found.\n  Please use the NLTK Downloader to obtain the resource:\n\n  \u001b[31m>>> import nltk\n  >>> nltk.download('stopwords')\n  \u001b[0m\n  For more information see: https://www.nltk.org/data.html\n\n  Attempted to load \u001b[93mcorpora/stopwords\u001b[0m\n\n  Searched in:\n    - 'C:\\\\Users\\\\HP BOOK/nltk_data'\n    - 'C:\\\\Users\\\\HP BOOK\\\\anaconda3\\\\nltk_data'\n    - 'C:\\\\Users\\\\HP BOOK\\\\anaconda3\\\\share\\\\nltk_data'\n    - 'C:\\\\Users\\\\HP BOOK\\\\anaconda3\\\\lib\\\\nltk_data'\n    - 'C:\\\\Users\\\\HP BOOK\\\\AppData\\\\Roaming\\\\nltk_data'\n    - 'C:\\\\nltk_data'\n    - 'D:\\\\nltk_data'\n    - 'E:\\\\nltk_data'\n**********************************************************************\n",
     "output_type": "error",
     "traceback": [
      "\u001b[1;31m---------------------------------------------------------------------------\u001b[0m",
      "\u001b[1;31mLookupError\u001b[0m                               Traceback (most recent call last)",
      "File \u001b[1;32m~\\anaconda3\\Lib\\site-packages\\nltk\\corpus\\util.py:84\u001b[0m, in \u001b[0;36mLazyCorpusLoader.__load\u001b[1;34m(self)\u001b[0m\n\u001b[0;32m     83\u001b[0m \u001b[38;5;28;01mtry\u001b[39;00m:\n\u001b[1;32m---> 84\u001b[0m     root \u001b[38;5;241m=\u001b[39m nltk\u001b[38;5;241m.\u001b[39mdata\u001b[38;5;241m.\u001b[39mfind(\u001b[38;5;124mf\u001b[39m\u001b[38;5;124m\"\u001b[39m\u001b[38;5;132;01m{\u001b[39;00m\u001b[38;5;28mself\u001b[39m\u001b[38;5;241m.\u001b[39msubdir\u001b[38;5;132;01m}\u001b[39;00m\u001b[38;5;124m/\u001b[39m\u001b[38;5;132;01m{\u001b[39;00mzip_name\u001b[38;5;132;01m}\u001b[39;00m\u001b[38;5;124m\"\u001b[39m)\n\u001b[0;32m     85\u001b[0m \u001b[38;5;28;01mexcept\u001b[39;00m \u001b[38;5;167;01mLookupError\u001b[39;00m:\n",
      "File \u001b[1;32m~\\anaconda3\\Lib\\site-packages\\nltk\\data.py:583\u001b[0m, in \u001b[0;36mfind\u001b[1;34m(resource_name, paths)\u001b[0m\n\u001b[0;32m    582\u001b[0m resource_not_found \u001b[38;5;241m=\u001b[39m \u001b[38;5;124mf\u001b[39m\u001b[38;5;124m\"\u001b[39m\u001b[38;5;130;01m\\n\u001b[39;00m\u001b[38;5;132;01m{\u001b[39;00msep\u001b[38;5;132;01m}\u001b[39;00m\u001b[38;5;130;01m\\n\u001b[39;00m\u001b[38;5;132;01m{\u001b[39;00mmsg\u001b[38;5;132;01m}\u001b[39;00m\u001b[38;5;130;01m\\n\u001b[39;00m\u001b[38;5;132;01m{\u001b[39;00msep\u001b[38;5;132;01m}\u001b[39;00m\u001b[38;5;130;01m\\n\u001b[39;00m\u001b[38;5;124m\"\u001b[39m\n\u001b[1;32m--> 583\u001b[0m \u001b[38;5;28;01mraise\u001b[39;00m \u001b[38;5;167;01mLookupError\u001b[39;00m(resource_not_found)\n",
      "\u001b[1;31mLookupError\u001b[0m: \n**********************************************************************\n  Resource \u001b[93mstopwords\u001b[0m not found.\n  Please use the NLTK Downloader to obtain the resource:\n\n  \u001b[31m>>> import nltk\n  >>> nltk.download('stopwords')\n  \u001b[0m\n  For more information see: https://www.nltk.org/data.html\n\n  Attempted to load \u001b[93mcorpora/stopwords.zip/stopwords/\u001b[0m\n\n  Searched in:\n    - 'C:\\\\Users\\\\HP BOOK/nltk_data'\n    - 'C:\\\\Users\\\\HP BOOK\\\\anaconda3\\\\nltk_data'\n    - 'C:\\\\Users\\\\HP BOOK\\\\anaconda3\\\\share\\\\nltk_data'\n    - 'C:\\\\Users\\\\HP BOOK\\\\anaconda3\\\\lib\\\\nltk_data'\n    - 'C:\\\\Users\\\\HP BOOK\\\\AppData\\\\Roaming\\\\nltk_data'\n    - 'C:\\\\nltk_data'\n    - 'D:\\\\nltk_data'\n    - 'E:\\\\nltk_data'\n**********************************************************************\n",
      "\nDuring handling of the above exception, another exception occurred:\n",
      "\u001b[1;31mLookupError\u001b[0m                               Traceback (most recent call last)",
      "Cell \u001b[1;32mIn[13], line 8\u001b[0m\n\u001b[0;32m      6\u001b[0m \u001b[38;5;28;01mfrom\u001b[39;00m \u001b[38;5;21;01mnltk\u001b[39;00m \u001b[38;5;28;01mimport\u001b[39;00m PorterStemmer\n\u001b[0;32m      7\u001b[0m \u001b[38;5;28;01mfrom\u001b[39;00m \u001b[38;5;21;01mnltk\u001b[39;00m \u001b[38;5;28;01mimport\u001b[39;00m tokenize  \u001b[38;5;66;03m#import nltk tokenize package to use word and sentence tokenizer.\u001b[39;00m\n\u001b[1;32m----> 8\u001b[0m STOPWORDS\u001b[38;5;241m=\u001b[39mstopwords\u001b[38;5;241m.\u001b[39mwords(\u001b[38;5;124m\"\u001b[39m\u001b[38;5;124menglish\u001b[39m\u001b[38;5;124m\"\u001b[39m)\n",
      "File \u001b[1;32m~\\anaconda3\\Lib\\site-packages\\nltk\\corpus\\util.py:121\u001b[0m, in \u001b[0;36mLazyCorpusLoader.__getattr__\u001b[1;34m(self, attr)\u001b[0m\n\u001b[0;32m    118\u001b[0m \u001b[38;5;28;01mif\u001b[39;00m attr \u001b[38;5;241m==\u001b[39m \u001b[38;5;124m\"\u001b[39m\u001b[38;5;124m__bases__\u001b[39m\u001b[38;5;124m\"\u001b[39m:\n\u001b[0;32m    119\u001b[0m     \u001b[38;5;28;01mraise\u001b[39;00m \u001b[38;5;167;01mAttributeError\u001b[39;00m(\u001b[38;5;124m\"\u001b[39m\u001b[38;5;124mLazyCorpusLoader object has no attribute \u001b[39m\u001b[38;5;124m'\u001b[39m\u001b[38;5;124m__bases__\u001b[39m\u001b[38;5;124m'\u001b[39m\u001b[38;5;124m\"\u001b[39m)\n\u001b[1;32m--> 121\u001b[0m \u001b[38;5;28mself\u001b[39m\u001b[38;5;241m.\u001b[39m__load()\n\u001b[0;32m    122\u001b[0m \u001b[38;5;66;03m# This looks circular, but its not, since __load() changes our\u001b[39;00m\n\u001b[0;32m    123\u001b[0m \u001b[38;5;66;03m# __class__ to something new:\u001b[39;00m\n\u001b[0;32m    124\u001b[0m \u001b[38;5;28;01mreturn\u001b[39;00m \u001b[38;5;28mgetattr\u001b[39m(\u001b[38;5;28mself\u001b[39m, attr)\n",
      "File \u001b[1;32m~\\anaconda3\\Lib\\site-packages\\nltk\\corpus\\util.py:86\u001b[0m, in \u001b[0;36mLazyCorpusLoader.__load\u001b[1;34m(self)\u001b[0m\n\u001b[0;32m     84\u001b[0m             root \u001b[38;5;241m=\u001b[39m nltk\u001b[38;5;241m.\u001b[39mdata\u001b[38;5;241m.\u001b[39mfind(\u001b[38;5;124mf\u001b[39m\u001b[38;5;124m\"\u001b[39m\u001b[38;5;132;01m{\u001b[39;00m\u001b[38;5;28mself\u001b[39m\u001b[38;5;241m.\u001b[39msubdir\u001b[38;5;132;01m}\u001b[39;00m\u001b[38;5;124m/\u001b[39m\u001b[38;5;132;01m{\u001b[39;00mzip_name\u001b[38;5;132;01m}\u001b[39;00m\u001b[38;5;124m\"\u001b[39m)\n\u001b[0;32m     85\u001b[0m         \u001b[38;5;28;01mexcept\u001b[39;00m \u001b[38;5;167;01mLookupError\u001b[39;00m:\n\u001b[1;32m---> 86\u001b[0m             \u001b[38;5;28;01mraise\u001b[39;00m e\n\u001b[0;32m     88\u001b[0m \u001b[38;5;66;03m# Load the corpus.\u001b[39;00m\n\u001b[0;32m     89\u001b[0m corpus \u001b[38;5;241m=\u001b[39m \u001b[38;5;28mself\u001b[39m\u001b[38;5;241m.\u001b[39m__reader_cls(root, \u001b[38;5;241m*\u001b[39m\u001b[38;5;28mself\u001b[39m\u001b[38;5;241m.\u001b[39m__args, \u001b[38;5;241m*\u001b[39m\u001b[38;5;241m*\u001b[39m\u001b[38;5;28mself\u001b[39m\u001b[38;5;241m.\u001b[39m__kwargs)\n",
      "File \u001b[1;32m~\\anaconda3\\Lib\\site-packages\\nltk\\corpus\\util.py:81\u001b[0m, in \u001b[0;36mLazyCorpusLoader.__load\u001b[1;34m(self)\u001b[0m\n\u001b[0;32m     79\u001b[0m \u001b[38;5;28;01melse\u001b[39;00m:\n\u001b[0;32m     80\u001b[0m     \u001b[38;5;28;01mtry\u001b[39;00m:\n\u001b[1;32m---> 81\u001b[0m         root \u001b[38;5;241m=\u001b[39m nltk\u001b[38;5;241m.\u001b[39mdata\u001b[38;5;241m.\u001b[39mfind(\u001b[38;5;124mf\u001b[39m\u001b[38;5;124m\"\u001b[39m\u001b[38;5;132;01m{\u001b[39;00m\u001b[38;5;28mself\u001b[39m\u001b[38;5;241m.\u001b[39msubdir\u001b[38;5;132;01m}\u001b[39;00m\u001b[38;5;124m/\u001b[39m\u001b[38;5;132;01m{\u001b[39;00m\u001b[38;5;28mself\u001b[39m\u001b[38;5;241m.\u001b[39m__name\u001b[38;5;132;01m}\u001b[39;00m\u001b[38;5;124m\"\u001b[39m)\n\u001b[0;32m     82\u001b[0m     \u001b[38;5;28;01mexcept\u001b[39;00m \u001b[38;5;167;01mLookupError\u001b[39;00m \u001b[38;5;28;01mas\u001b[39;00m e:\n\u001b[0;32m     83\u001b[0m         \u001b[38;5;28;01mtry\u001b[39;00m:\n",
      "File \u001b[1;32m~\\anaconda3\\Lib\\site-packages\\nltk\\data.py:583\u001b[0m, in \u001b[0;36mfind\u001b[1;34m(resource_name, paths)\u001b[0m\n\u001b[0;32m    581\u001b[0m sep \u001b[38;5;241m=\u001b[39m \u001b[38;5;124m\"\u001b[39m\u001b[38;5;124m*\u001b[39m\u001b[38;5;124m\"\u001b[39m \u001b[38;5;241m*\u001b[39m \u001b[38;5;241m70\u001b[39m\n\u001b[0;32m    582\u001b[0m resource_not_found \u001b[38;5;241m=\u001b[39m \u001b[38;5;124mf\u001b[39m\u001b[38;5;124m\"\u001b[39m\u001b[38;5;130;01m\\n\u001b[39;00m\u001b[38;5;132;01m{\u001b[39;00msep\u001b[38;5;132;01m}\u001b[39;00m\u001b[38;5;130;01m\\n\u001b[39;00m\u001b[38;5;132;01m{\u001b[39;00mmsg\u001b[38;5;132;01m}\u001b[39;00m\u001b[38;5;130;01m\\n\u001b[39;00m\u001b[38;5;132;01m{\u001b[39;00msep\u001b[38;5;132;01m}\u001b[39;00m\u001b[38;5;130;01m\\n\u001b[39;00m\u001b[38;5;124m\"\u001b[39m\n\u001b[1;32m--> 583\u001b[0m \u001b[38;5;28;01mraise\u001b[39;00m \u001b[38;5;167;01mLookupError\u001b[39;00m(resource_not_found)\n",
      "\u001b[1;31mLookupError\u001b[0m: \n**********************************************************************\n  Resource \u001b[93mstopwords\u001b[0m not found.\n  Please use the NLTK Downloader to obtain the resource:\n\n  \u001b[31m>>> import nltk\n  >>> nltk.download('stopwords')\n  \u001b[0m\n  For more information see: https://www.nltk.org/data.html\n\n  Attempted to load \u001b[93mcorpora/stopwords\u001b[0m\n\n  Searched in:\n    - 'C:\\\\Users\\\\HP BOOK/nltk_data'\n    - 'C:\\\\Users\\\\HP BOOK\\\\anaconda3\\\\nltk_data'\n    - 'C:\\\\Users\\\\HP BOOK\\\\anaconda3\\\\share\\\\nltk_data'\n    - 'C:\\\\Users\\\\HP BOOK\\\\anaconda3\\\\lib\\\\nltk_data'\n    - 'C:\\\\Users\\\\HP BOOK\\\\AppData\\\\Roaming\\\\nltk_data'\n    - 'C:\\\\nltk_data'\n    - 'D:\\\\nltk_data'\n    - 'E:\\\\nltk_data'\n**********************************************************************\n"
     ]
    }
   ],
   "source": [
    "#import nltk library for data preprocessing\n",
    "import nltk\n",
    "nltk.download('punkt') #download punctuation\n",
    "nltk.download('stopwords') #download stopwords\n",
    "from nltk.corpus import stopwords\n",
    "from nltk import PorterStemmer\n",
    "from nltk import tokenize  #import nltk tokenize package to use word and sentence tokenizer.\n",
    "STOPWORDS=stopwords.words(\"english\") #taking only english stopwords because spam messages are in english language only."
   ]
  },
  {
   "cell_type": "code",
   "execution_count": 14,
   "id": "1e9a67ee",
   "metadata": {
    "execution": {
     "iopub.execute_input": "2023-10-31T07:42:28.514386Z",
     "iopub.status.busy": "2023-10-31T07:42:28.513687Z",
     "iopub.status.idle": "2023-10-31T07:42:28.519295Z",
     "shell.execute_reply": "2023-10-31T07:42:28.518650Z"
    },
    "id": "1fb99b76",
    "papermill": {
     "duration": 0.021342,
     "end_time": "2023-10-31T07:42:28.521344",
     "exception": false,
     "start_time": "2023-10-31T07:42:28.500002",
     "status": "completed"
    },
    "tags": []
   },
   "outputs": [],
   "source": [
    "#function to preprocess row text into ready to use format for our model.\n",
    "def message_tranformation(text):\n",
    "    text=text.strip() #remove black spaces from starting and ending of message text\n",
    "    text=text.lower() #coverting all message words into lowercase format to generalize it.\n",
    "\n",
    "    #tokenize the text\n",
    "    words=tokenize.word_tokenize(text)\n",
    "\n",
    "    #intialize the porter stemmer\n",
    "    stemmer=PorterStemmer()\n",
    "\n",
    "    #remove stopwords and applying stemming while ignoring special words.\n",
    "    filtered_words=[stemmer.stem(word) for word in words if word not in STOPWORDS and word.isalnum()]\n",
    "\n",
    "    #Join list of filter words back to the string format\n",
    "    transformed_text=\" \".join(filtered_words)\n",
    "    return transformed_text"
   ]
  },
  {
   "cell_type": "code",
   "execution_count": 15,
   "id": "ddeac7ad",
   "metadata": {
    "execution": {
     "iopub.execute_input": "2023-10-31T07:42:28.548883Z",
     "iopub.status.busy": "2023-10-31T07:42:28.548270Z",
     "iopub.status.idle": "2023-10-31T07:42:31.904567Z",
     "shell.execute_reply": "2023-10-31T07:42:31.903665Z"
    },
    "id": "5b1362cc",
    "papermill": {
     "duration": 3.372917,
     "end_time": "2023-10-31T07:42:31.906998",
     "exception": false,
     "start_time": "2023-10-31T07:42:28.534081",
     "status": "completed"
    },
    "tags": []
   },
   "outputs": [
    {
     "ename": "LookupError",
     "evalue": "\n**********************************************************************\n  Resource \u001b[93mpunkt\u001b[0m not found.\n  Please use the NLTK Downloader to obtain the resource:\n\n  \u001b[31m>>> import nltk\n  >>> nltk.download('punkt')\n  \u001b[0m\n  For more information see: https://www.nltk.org/data.html\n\n  Attempted to load \u001b[93mtokenizers/punkt/english.pickle\u001b[0m\n\n  Searched in:\n    - 'C:\\\\Users\\\\HP BOOK/nltk_data'\n    - 'C:\\\\Users\\\\HP BOOK\\\\anaconda3\\\\nltk_data'\n    - 'C:\\\\Users\\\\HP BOOK\\\\anaconda3\\\\share\\\\nltk_data'\n    - 'C:\\\\Users\\\\HP BOOK\\\\anaconda3\\\\lib\\\\nltk_data'\n    - 'C:\\\\Users\\\\HP BOOK\\\\AppData\\\\Roaming\\\\nltk_data'\n    - 'C:\\\\nltk_data'\n    - 'D:\\\\nltk_data'\n    - 'E:\\\\nltk_data'\n    - ''\n**********************************************************************\n",
     "output_type": "error",
     "traceback": [
      "\u001b[1;31m---------------------------------------------------------------------------\u001b[0m",
      "\u001b[1;31mLookupError\u001b[0m                               Traceback (most recent call last)",
      "Cell \u001b[1;32mIn[15], line 2\u001b[0m\n\u001b[0;32m      1\u001b[0m \u001b[38;5;66;03m#applying message tranformation function on email_df transformed_message column.\u001b[39;00m\n\u001b[1;32m----> 2\u001b[0m email_df[\u001b[38;5;124m\"\u001b[39m\u001b[38;5;124mtransformed_message\u001b[39m\u001b[38;5;124m\"\u001b[39m]\u001b[38;5;241m=\u001b[39memail_df[\u001b[38;5;124m\"\u001b[39m\u001b[38;5;124mmessage\u001b[39m\u001b[38;5;124m\"\u001b[39m]\u001b[38;5;241m.\u001b[39mapply(message_tranformation)\n",
      "File \u001b[1;32m~\\anaconda3\\Lib\\site-packages\\pandas\\core\\series.py:4630\u001b[0m, in \u001b[0;36mSeries.apply\u001b[1;34m(self, func, convert_dtype, args, **kwargs)\u001b[0m\n\u001b[0;32m   4520\u001b[0m \u001b[38;5;28;01mdef\u001b[39;00m \u001b[38;5;21mapply\u001b[39m(\n\u001b[0;32m   4521\u001b[0m     \u001b[38;5;28mself\u001b[39m,\n\u001b[0;32m   4522\u001b[0m     func: AggFuncType,\n\u001b[1;32m   (...)\u001b[0m\n\u001b[0;32m   4525\u001b[0m     \u001b[38;5;241m*\u001b[39m\u001b[38;5;241m*\u001b[39mkwargs,\n\u001b[0;32m   4526\u001b[0m ) \u001b[38;5;241m-\u001b[39m\u001b[38;5;241m>\u001b[39m DataFrame \u001b[38;5;241m|\u001b[39m Series:\n\u001b[0;32m   4527\u001b[0m \u001b[38;5;250m    \u001b[39m\u001b[38;5;124;03m\"\"\"\u001b[39;00m\n\u001b[0;32m   4528\u001b[0m \u001b[38;5;124;03m    Invoke function on values of Series.\u001b[39;00m\n\u001b[0;32m   4529\u001b[0m \n\u001b[1;32m   (...)\u001b[0m\n\u001b[0;32m   4628\u001b[0m \u001b[38;5;124;03m    dtype: float64\u001b[39;00m\n\u001b[0;32m   4629\u001b[0m \u001b[38;5;124;03m    \"\"\"\u001b[39;00m\n\u001b[1;32m-> 4630\u001b[0m     \u001b[38;5;28;01mreturn\u001b[39;00m SeriesApply(\u001b[38;5;28mself\u001b[39m, func, convert_dtype, args, kwargs)\u001b[38;5;241m.\u001b[39mapply()\n",
      "File \u001b[1;32m~\\anaconda3\\Lib\\site-packages\\pandas\\core\\apply.py:1025\u001b[0m, in \u001b[0;36mSeriesApply.apply\u001b[1;34m(self)\u001b[0m\n\u001b[0;32m   1022\u001b[0m     \u001b[38;5;28;01mreturn\u001b[39;00m \u001b[38;5;28mself\u001b[39m\u001b[38;5;241m.\u001b[39mapply_str()\n\u001b[0;32m   1024\u001b[0m \u001b[38;5;66;03m# self.f is Callable\u001b[39;00m\n\u001b[1;32m-> 1025\u001b[0m \u001b[38;5;28;01mreturn\u001b[39;00m \u001b[38;5;28mself\u001b[39m\u001b[38;5;241m.\u001b[39mapply_standard()\n",
      "File \u001b[1;32m~\\anaconda3\\Lib\\site-packages\\pandas\\core\\apply.py:1076\u001b[0m, in \u001b[0;36mSeriesApply.apply_standard\u001b[1;34m(self)\u001b[0m\n\u001b[0;32m   1074\u001b[0m     \u001b[38;5;28;01melse\u001b[39;00m:\n\u001b[0;32m   1075\u001b[0m         values \u001b[38;5;241m=\u001b[39m obj\u001b[38;5;241m.\u001b[39mastype(\u001b[38;5;28mobject\u001b[39m)\u001b[38;5;241m.\u001b[39m_values\n\u001b[1;32m-> 1076\u001b[0m         mapped \u001b[38;5;241m=\u001b[39m lib\u001b[38;5;241m.\u001b[39mmap_infer(\n\u001b[0;32m   1077\u001b[0m             values,\n\u001b[0;32m   1078\u001b[0m             f,\n\u001b[0;32m   1079\u001b[0m             convert\u001b[38;5;241m=\u001b[39m\u001b[38;5;28mself\u001b[39m\u001b[38;5;241m.\u001b[39mconvert_dtype,\n\u001b[0;32m   1080\u001b[0m         )\n\u001b[0;32m   1082\u001b[0m \u001b[38;5;28;01mif\u001b[39;00m \u001b[38;5;28mlen\u001b[39m(mapped) \u001b[38;5;129;01mand\u001b[39;00m \u001b[38;5;28misinstance\u001b[39m(mapped[\u001b[38;5;241m0\u001b[39m], ABCSeries):\n\u001b[0;32m   1083\u001b[0m     \u001b[38;5;66;03m# GH#43986 Need to do list(mapped) in order to get treated as nested\u001b[39;00m\n\u001b[0;32m   1084\u001b[0m     \u001b[38;5;66;03m#  See also GH#25959 regarding EA support\u001b[39;00m\n\u001b[0;32m   1085\u001b[0m     \u001b[38;5;28;01mreturn\u001b[39;00m obj\u001b[38;5;241m.\u001b[39m_constructor_expanddim(\u001b[38;5;28mlist\u001b[39m(mapped), index\u001b[38;5;241m=\u001b[39mobj\u001b[38;5;241m.\u001b[39mindex)\n",
      "File \u001b[1;32m~\\anaconda3\\Lib\\site-packages\\pandas\\_libs\\lib.pyx:2834\u001b[0m, in \u001b[0;36mpandas._libs.lib.map_infer\u001b[1;34m()\u001b[0m\n",
      "Cell \u001b[1;32mIn[14], line 7\u001b[0m, in \u001b[0;36mmessage_tranformation\u001b[1;34m(text)\u001b[0m\n\u001b[0;32m      4\u001b[0m text\u001b[38;5;241m=\u001b[39mtext\u001b[38;5;241m.\u001b[39mlower() \u001b[38;5;66;03m#coverting all message words into lowercase format to generalize it.\u001b[39;00m\n\u001b[0;32m      6\u001b[0m \u001b[38;5;66;03m#tokenize the text\u001b[39;00m\n\u001b[1;32m----> 7\u001b[0m words\u001b[38;5;241m=\u001b[39mtokenize\u001b[38;5;241m.\u001b[39mword_tokenize(text)\n\u001b[0;32m      9\u001b[0m \u001b[38;5;66;03m#intialize the porter stemmer\u001b[39;00m\n\u001b[0;32m     10\u001b[0m stemmer\u001b[38;5;241m=\u001b[39mPorterStemmer()\n",
      "File \u001b[1;32m~\\anaconda3\\Lib\\site-packages\\nltk\\tokenize\\__init__.py:129\u001b[0m, in \u001b[0;36mword_tokenize\u001b[1;34m(text, language, preserve_line)\u001b[0m\n\u001b[0;32m    114\u001b[0m \u001b[38;5;28;01mdef\u001b[39;00m \u001b[38;5;21mword_tokenize\u001b[39m(text, language\u001b[38;5;241m=\u001b[39m\u001b[38;5;124m\"\u001b[39m\u001b[38;5;124menglish\u001b[39m\u001b[38;5;124m\"\u001b[39m, preserve_line\u001b[38;5;241m=\u001b[39m\u001b[38;5;28;01mFalse\u001b[39;00m):\n\u001b[0;32m    115\u001b[0m \u001b[38;5;250m    \u001b[39m\u001b[38;5;124;03m\"\"\"\u001b[39;00m\n\u001b[0;32m    116\u001b[0m \u001b[38;5;124;03m    Return a tokenized copy of *text*,\u001b[39;00m\n\u001b[0;32m    117\u001b[0m \u001b[38;5;124;03m    using NLTK's recommended word tokenizer\u001b[39;00m\n\u001b[1;32m   (...)\u001b[0m\n\u001b[0;32m    127\u001b[0m \u001b[38;5;124;03m    :type preserve_line: bool\u001b[39;00m\n\u001b[0;32m    128\u001b[0m \u001b[38;5;124;03m    \"\"\"\u001b[39;00m\n\u001b[1;32m--> 129\u001b[0m     sentences \u001b[38;5;241m=\u001b[39m [text] \u001b[38;5;28;01mif\u001b[39;00m preserve_line \u001b[38;5;28;01melse\u001b[39;00m sent_tokenize(text, language)\n\u001b[0;32m    130\u001b[0m     \u001b[38;5;28;01mreturn\u001b[39;00m [\n\u001b[0;32m    131\u001b[0m         token \u001b[38;5;28;01mfor\u001b[39;00m sent \u001b[38;5;129;01min\u001b[39;00m sentences \u001b[38;5;28;01mfor\u001b[39;00m token \u001b[38;5;129;01min\u001b[39;00m _treebank_word_tokenizer\u001b[38;5;241m.\u001b[39mtokenize(sent)\n\u001b[0;32m    132\u001b[0m     ]\n",
      "File \u001b[1;32m~\\anaconda3\\Lib\\site-packages\\nltk\\tokenize\\__init__.py:106\u001b[0m, in \u001b[0;36msent_tokenize\u001b[1;34m(text, language)\u001b[0m\n\u001b[0;32m     96\u001b[0m \u001b[38;5;28;01mdef\u001b[39;00m \u001b[38;5;21msent_tokenize\u001b[39m(text, language\u001b[38;5;241m=\u001b[39m\u001b[38;5;124m\"\u001b[39m\u001b[38;5;124menglish\u001b[39m\u001b[38;5;124m\"\u001b[39m):\n\u001b[0;32m     97\u001b[0m \u001b[38;5;250m    \u001b[39m\u001b[38;5;124;03m\"\"\"\u001b[39;00m\n\u001b[0;32m     98\u001b[0m \u001b[38;5;124;03m    Return a sentence-tokenized copy of *text*,\u001b[39;00m\n\u001b[0;32m     99\u001b[0m \u001b[38;5;124;03m    using NLTK's recommended sentence tokenizer\u001b[39;00m\n\u001b[1;32m   (...)\u001b[0m\n\u001b[0;32m    104\u001b[0m \u001b[38;5;124;03m    :param language: the model name in the Punkt corpus\u001b[39;00m\n\u001b[0;32m    105\u001b[0m \u001b[38;5;124;03m    \"\"\"\u001b[39;00m\n\u001b[1;32m--> 106\u001b[0m     tokenizer \u001b[38;5;241m=\u001b[39m load(\u001b[38;5;124mf\u001b[39m\u001b[38;5;124m\"\u001b[39m\u001b[38;5;124mtokenizers/punkt/\u001b[39m\u001b[38;5;132;01m{\u001b[39;00mlanguage\u001b[38;5;132;01m}\u001b[39;00m\u001b[38;5;124m.pickle\u001b[39m\u001b[38;5;124m\"\u001b[39m)\n\u001b[0;32m    107\u001b[0m     \u001b[38;5;28;01mreturn\u001b[39;00m tokenizer\u001b[38;5;241m.\u001b[39mtokenize(text)\n",
      "File \u001b[1;32m~\\anaconda3\\Lib\\site-packages\\nltk\\data.py:750\u001b[0m, in \u001b[0;36mload\u001b[1;34m(resource_url, format, cache, verbose, logic_parser, fstruct_reader, encoding)\u001b[0m\n\u001b[0;32m    747\u001b[0m     \u001b[38;5;28mprint\u001b[39m(\u001b[38;5;124mf\u001b[39m\u001b[38;5;124m\"\u001b[39m\u001b[38;5;124m<<Loading \u001b[39m\u001b[38;5;132;01m{\u001b[39;00mresource_url\u001b[38;5;132;01m}\u001b[39;00m\u001b[38;5;124m>>\u001b[39m\u001b[38;5;124m\"\u001b[39m)\n\u001b[0;32m    749\u001b[0m \u001b[38;5;66;03m# Load the resource.\u001b[39;00m\n\u001b[1;32m--> 750\u001b[0m opened_resource \u001b[38;5;241m=\u001b[39m _open(resource_url)\n\u001b[0;32m    752\u001b[0m \u001b[38;5;28;01mif\u001b[39;00m \u001b[38;5;28mformat\u001b[39m \u001b[38;5;241m==\u001b[39m \u001b[38;5;124m\"\u001b[39m\u001b[38;5;124mraw\u001b[39m\u001b[38;5;124m\"\u001b[39m:\n\u001b[0;32m    753\u001b[0m     resource_val \u001b[38;5;241m=\u001b[39m opened_resource\u001b[38;5;241m.\u001b[39mread()\n",
      "File \u001b[1;32m~\\anaconda3\\Lib\\site-packages\\nltk\\data.py:876\u001b[0m, in \u001b[0;36m_open\u001b[1;34m(resource_url)\u001b[0m\n\u001b[0;32m    873\u001b[0m protocol, path_ \u001b[38;5;241m=\u001b[39m split_resource_url(resource_url)\n\u001b[0;32m    875\u001b[0m \u001b[38;5;28;01mif\u001b[39;00m protocol \u001b[38;5;129;01mis\u001b[39;00m \u001b[38;5;28;01mNone\u001b[39;00m \u001b[38;5;129;01mor\u001b[39;00m protocol\u001b[38;5;241m.\u001b[39mlower() \u001b[38;5;241m==\u001b[39m \u001b[38;5;124m\"\u001b[39m\u001b[38;5;124mnltk\u001b[39m\u001b[38;5;124m\"\u001b[39m:\n\u001b[1;32m--> 876\u001b[0m     \u001b[38;5;28;01mreturn\u001b[39;00m find(path_, path \u001b[38;5;241m+\u001b[39m [\u001b[38;5;124m\"\u001b[39m\u001b[38;5;124m\"\u001b[39m])\u001b[38;5;241m.\u001b[39mopen()\n\u001b[0;32m    877\u001b[0m \u001b[38;5;28;01melif\u001b[39;00m protocol\u001b[38;5;241m.\u001b[39mlower() \u001b[38;5;241m==\u001b[39m \u001b[38;5;124m\"\u001b[39m\u001b[38;5;124mfile\u001b[39m\u001b[38;5;124m\"\u001b[39m:\n\u001b[0;32m    878\u001b[0m     \u001b[38;5;66;03m# urllib might not use mode='rb', so handle this one ourselves:\u001b[39;00m\n\u001b[0;32m    879\u001b[0m     \u001b[38;5;28;01mreturn\u001b[39;00m find(path_, [\u001b[38;5;124m\"\u001b[39m\u001b[38;5;124m\"\u001b[39m])\u001b[38;5;241m.\u001b[39mopen()\n",
      "File \u001b[1;32m~\\anaconda3\\Lib\\site-packages\\nltk\\data.py:583\u001b[0m, in \u001b[0;36mfind\u001b[1;34m(resource_name, paths)\u001b[0m\n\u001b[0;32m    581\u001b[0m sep \u001b[38;5;241m=\u001b[39m \u001b[38;5;124m\"\u001b[39m\u001b[38;5;124m*\u001b[39m\u001b[38;5;124m\"\u001b[39m \u001b[38;5;241m*\u001b[39m \u001b[38;5;241m70\u001b[39m\n\u001b[0;32m    582\u001b[0m resource_not_found \u001b[38;5;241m=\u001b[39m \u001b[38;5;124mf\u001b[39m\u001b[38;5;124m\"\u001b[39m\u001b[38;5;130;01m\\n\u001b[39;00m\u001b[38;5;132;01m{\u001b[39;00msep\u001b[38;5;132;01m}\u001b[39;00m\u001b[38;5;130;01m\\n\u001b[39;00m\u001b[38;5;132;01m{\u001b[39;00mmsg\u001b[38;5;132;01m}\u001b[39;00m\u001b[38;5;130;01m\\n\u001b[39;00m\u001b[38;5;132;01m{\u001b[39;00msep\u001b[38;5;132;01m}\u001b[39;00m\u001b[38;5;130;01m\\n\u001b[39;00m\u001b[38;5;124m\"\u001b[39m\n\u001b[1;32m--> 583\u001b[0m \u001b[38;5;28;01mraise\u001b[39;00m \u001b[38;5;167;01mLookupError\u001b[39;00m(resource_not_found)\n",
      "\u001b[1;31mLookupError\u001b[0m: \n**********************************************************************\n  Resource \u001b[93mpunkt\u001b[0m not found.\n  Please use the NLTK Downloader to obtain the resource:\n\n  \u001b[31m>>> import nltk\n  >>> nltk.download('punkt')\n  \u001b[0m\n  For more information see: https://www.nltk.org/data.html\n\n  Attempted to load \u001b[93mtokenizers/punkt/english.pickle\u001b[0m\n\n  Searched in:\n    - 'C:\\\\Users\\\\HP BOOK/nltk_data'\n    - 'C:\\\\Users\\\\HP BOOK\\\\anaconda3\\\\nltk_data'\n    - 'C:\\\\Users\\\\HP BOOK\\\\anaconda3\\\\share\\\\nltk_data'\n    - 'C:\\\\Users\\\\HP BOOK\\\\anaconda3\\\\lib\\\\nltk_data'\n    - 'C:\\\\Users\\\\HP BOOK\\\\AppData\\\\Roaming\\\\nltk_data'\n    - 'C:\\\\nltk_data'\n    - 'D:\\\\nltk_data'\n    - 'E:\\\\nltk_data'\n    - ''\n**********************************************************************\n"
     ]
    }
   ],
   "source": [
    "#applying message tranformation function on email_df transformed_message column.\n",
    "email_df[\"transformed_message\"]=email_df[\"message\"].apply(message_tranformation)"
   ]
  },
  {
   "cell_type": "code",
   "execution_count": 16,
   "id": "3c148b71",
   "metadata": {
    "execution": {
     "iopub.execute_input": "2023-10-31T07:42:31.933738Z",
     "iopub.status.busy": "2023-10-31T07:42:31.933176Z",
     "iopub.status.idle": "2023-10-31T07:42:31.942347Z",
     "shell.execute_reply": "2023-10-31T07:42:31.941556Z"
    },
    "id": "355bf218",
    "outputId": "a33e9544-9a99-446a-f61f-2888ad234b69",
    "papermill": {
     "duration": 0.024762,
     "end_time": "2023-10-31T07:42:31.944290",
     "exception": false,
     "start_time": "2023-10-31T07:42:31.919528",
     "status": "completed"
    },
    "tags": []
   },
   "outputs": [
    {
     "data": {
      "text/html": [
       "<div>\n",
       "<style scoped>\n",
       "    .dataframe tbody tr th:only-of-type {\n",
       "        vertical-align: middle;\n",
       "    }\n",
       "\n",
       "    .dataframe tbody tr th {\n",
       "        vertical-align: top;\n",
       "    }\n",
       "\n",
       "    .dataframe thead th {\n",
       "        text-align: right;\n",
       "    }\n",
       "</style>\n",
       "<table border=\"1\" class=\"dataframe\">\n",
       "  <thead>\n",
       "    <tr style=\"text-align: right;\">\n",
       "      <th></th>\n",
       "      <th>target</th>\n",
       "      <th>message</th>\n",
       "    </tr>\n",
       "  </thead>\n",
       "  <tbody>\n",
       "    <tr>\n",
       "      <th>0</th>\n",
       "      <td>1</td>\n",
       "      <td>Go until jurong point, crazy.. Available only ...</td>\n",
       "    </tr>\n",
       "    <tr>\n",
       "      <th>1</th>\n",
       "      <td>1</td>\n",
       "      <td>Ok lar... Joking wif u oni...</td>\n",
       "    </tr>\n",
       "    <tr>\n",
       "      <th>2</th>\n",
       "      <td>0</td>\n",
       "      <td>Free entry in 2 a wkly comp to win FA Cup fina...</td>\n",
       "    </tr>\n",
       "    <tr>\n",
       "      <th>3</th>\n",
       "      <td>1</td>\n",
       "      <td>U dun say so early hor... U c already then say...</td>\n",
       "    </tr>\n",
       "    <tr>\n",
       "      <th>4</th>\n",
       "      <td>1</td>\n",
       "      <td>Nah I don't think he goes to usf, he lives aro...</td>\n",
       "    </tr>\n",
       "  </tbody>\n",
       "</table>\n",
       "</div>"
      ],
      "text/plain": [
       "   target                                            message\n",
       "0       1  Go until jurong point, crazy.. Available only ...\n",
       "1       1                      Ok lar... Joking wif u oni...\n",
       "2       0  Free entry in 2 a wkly comp to win FA Cup fina...\n",
       "3       1  U dun say so early hor... U c already then say...\n",
       "4       1  Nah I don't think he goes to usf, he lives aro..."
      ]
     },
     "execution_count": 16,
     "metadata": {},
     "output_type": "execute_result"
    }
   ],
   "source": [
    "#print first 5 recods after cleaning messages\n",
    "email_df.head()"
   ]
  },
  {
   "cell_type": "code",
   "execution_count": 17,
   "id": "3375dc85",
   "metadata": {
    "execution": {
     "iopub.execute_input": "2023-10-31T07:42:32.015734Z",
     "iopub.status.busy": "2023-10-31T07:42:32.015131Z",
     "iopub.status.idle": "2023-10-31T07:42:32.022012Z",
     "shell.execute_reply": "2023-10-31T07:42:32.021284Z"
    },
    "id": "m6Av5FDd4fLY",
    "papermill": {
     "duration": 0.024036,
     "end_time": "2023-10-31T07:42:32.024075",
     "exception": false,
     "start_time": "2023-10-31T07:42:32.000039",
     "status": "completed"
    },
    "tags": []
   },
   "outputs": [],
   "source": [
    "#now we can delete message column because we are going to work with preprocessed text messages only.\n",
    "email_df.drop(columns=\"message\",inplace=True)"
   ]
  },
  {
   "cell_type": "code",
   "execution_count": 18,
   "id": "2e823400",
   "metadata": {
    "execution": {
     "iopub.execute_input": "2023-10-31T07:42:32.051734Z",
     "iopub.status.busy": "2023-10-31T07:42:32.051216Z",
     "iopub.status.idle": "2023-10-31T07:42:32.104443Z",
     "shell.execute_reply": "2023-10-31T07:42:32.103410Z"
    },
    "id": "75b5ebed",
    "papermill": {
     "duration": 0.069246,
     "end_time": "2023-10-31T07:42:32.107012",
     "exception": false,
     "start_time": "2023-10-31T07:42:32.037766",
     "status": "completed"
    },
    "tags": []
   },
   "outputs": [
    {
     "ename": "ModuleNotFoundError",
     "evalue": "No module named 'wordcloud'",
     "output_type": "error",
     "traceback": [
      "\u001b[1;31m---------------------------------------------------------------------------\u001b[0m",
      "\u001b[1;31mModuleNotFoundError\u001b[0m                       Traceback (most recent call last)",
      "Cell \u001b[1;32mIn[18], line 2\u001b[0m\n\u001b[0;32m      1\u001b[0m \u001b[38;5;66;03m#configure object of wordcloud plot\u001b[39;00m\n\u001b[1;32m----> 2\u001b[0m \u001b[38;5;28;01mfrom\u001b[39;00m \u001b[38;5;21;01mwordcloud\u001b[39;00m \u001b[38;5;28;01mimport\u001b[39;00m WordCloud\n\u001b[0;32m      3\u001b[0m wc\u001b[38;5;241m=\u001b[39mWordCloud(width\u001b[38;5;241m=\u001b[39m\u001b[38;5;241m1000\u001b[39m,height\u001b[38;5;241m=\u001b[39m\u001b[38;5;241m1000\u001b[39m,min_font_size\u001b[38;5;241m=\u001b[39m\u001b[38;5;241m8\u001b[39m,background_color\u001b[38;5;241m=\u001b[39m\u001b[38;5;124m'\u001b[39m\u001b[38;5;124mwhite\u001b[39m\u001b[38;5;124m'\u001b[39m)\n",
      "\u001b[1;31mModuleNotFoundError\u001b[0m: No module named 'wordcloud'"
     ]
    }
   ],
   "source": [
    "#configure object of wordcloud plot\n",
    "from wordcloud import WordCloud\n",
    "wc=WordCloud(width=1000,height=1000,min_font_size=8,background_color='white')"
   ]
  },
  {
   "cell_type": "markdown",
   "id": "133f0db0",
   "metadata": {
    "id": "987a9d24",
    "papermill": {
     "duration": 0.012587,
     "end_time": "2023-10-31T07:42:32.132829",
     "exception": false,
     "start_time": "2023-10-31T07:42:32.120242",
     "status": "completed"
    },
    "tags": []
   },
   "source": [
    "Wordcloud for Spam Category messaages"
   ]
  },
  {
   "cell_type": "code",
   "execution_count": 19,
   "id": "953e7737",
   "metadata": {
    "execution": {
     "iopub.execute_input": "2023-10-31T07:42:32.161568Z",
     "iopub.status.busy": "2023-10-31T07:42:32.161197Z",
     "iopub.status.idle": "2023-10-31T07:42:34.800157Z",
     "shell.execute_reply": "2023-10-31T07:42:34.799035Z"
    },
    "id": "6aeb4a70",
    "outputId": "f5a281da-c9cd-4251-86e7-e07daee853a8",
    "papermill": {
     "duration": 2.659467,
     "end_time": "2023-10-31T07:42:34.805721",
     "exception": false,
     "start_time": "2023-10-31T07:42:32.146254",
     "status": "completed"
    },
    "tags": []
   },
   "outputs": [
    {
     "ename": "NameError",
     "evalue": "name 'wc' is not defined",
     "output_type": "error",
     "traceback": [
      "\u001b[1;31m---------------------------------------------------------------------------\u001b[0m",
      "\u001b[1;31mNameError\u001b[0m                                 Traceback (most recent call last)",
      "Cell \u001b[1;32mIn[19], line 2\u001b[0m\n\u001b[0;32m      1\u001b[0m \u001b[38;5;66;03m#generate wordcloud plot for spam messages\u001b[39;00m\n\u001b[1;32m----> 2\u001b[0m spam_wc\u001b[38;5;241m=\u001b[39mwc\u001b[38;5;241m.\u001b[39mgenerate(email_df[email_df[\u001b[38;5;124m\"\u001b[39m\u001b[38;5;124mtarget\u001b[39m\u001b[38;5;124m\"\u001b[39m]\u001b[38;5;241m==\u001b[39m\u001b[38;5;241m0\u001b[39m][\u001b[38;5;124m\"\u001b[39m\u001b[38;5;124mtransformed_message\u001b[39m\u001b[38;5;124m\"\u001b[39m]\u001b[38;5;241m.\u001b[39mstr\u001b[38;5;241m.\u001b[39mcat(sep\u001b[38;5;241m=\u001b[39m\u001b[38;5;124m\"\u001b[39m\u001b[38;5;124m \u001b[39m\u001b[38;5;124m\"\u001b[39m))\n\u001b[0;32m      3\u001b[0m plt\u001b[38;5;241m.\u001b[39mfigure(figsize\u001b[38;5;241m=\u001b[39m(\u001b[38;5;241m20\u001b[39m,\u001b[38;5;241m10\u001b[39m))\n\u001b[0;32m      4\u001b[0m plt\u001b[38;5;241m.\u001b[39mimshow(spam_wc)\n",
      "\u001b[1;31mNameError\u001b[0m: name 'wc' is not defined"
     ]
    }
   ],
   "source": [
    "#generate wordcloud plot for spam messages\n",
    "spam_wc=wc.generate(email_df[email_df[\"target\"]==0][\"transformed_message\"].str.cat(sep=\" \"))\n",
    "plt.figure(figsize=(20,10))\n",
    "plt.imshow(spam_wc)\n",
    "plt.show()"
   ]
  },
  {
   "cell_type": "markdown",
   "id": "4db7e83a",
   "metadata": {
    "id": "e1cd4a8d",
    "papermill": {
     "duration": 0.018557,
     "end_time": "2023-10-31T07:42:34.843611",
     "exception": false,
     "start_time": "2023-10-31T07:42:34.825054",
     "status": "completed"
    },
    "tags": []
   },
   "source": [
    "Wordcloud of ham category"
   ]
  },
  {
   "cell_type": "code",
   "execution_count": 20,
   "id": "07e5ad8d",
   "metadata": {
    "execution": {
     "iopub.execute_input": "2023-10-31T07:42:34.884016Z",
     "iopub.status.busy": "2023-10-31T07:42:34.883026Z",
     "iopub.status.idle": "2023-10-31T07:42:37.850722Z",
     "shell.execute_reply": "2023-10-31T07:42:37.849822Z"
    },
    "id": "80c72843",
    "outputId": "d3485581-af07-4a0f-a217-6ad688c52407",
    "papermill": {
     "duration": 2.995332,
     "end_time": "2023-10-31T07:42:37.858151",
     "exception": false,
     "start_time": "2023-10-31T07:42:34.862819",
     "status": "completed"
    },
    "tags": []
   },
   "outputs": [
    {
     "ename": "NameError",
     "evalue": "name 'wc' is not defined",
     "output_type": "error",
     "traceback": [
      "\u001b[1;31m---------------------------------------------------------------------------\u001b[0m",
      "\u001b[1;31mNameError\u001b[0m                                 Traceback (most recent call last)",
      "Cell \u001b[1;32mIn[20], line 2\u001b[0m\n\u001b[0;32m      1\u001b[0m \u001b[38;5;66;03m#generate wordcloud plot for not-spam messages\u001b[39;00m\n\u001b[1;32m----> 2\u001b[0m ham_wc\u001b[38;5;241m=\u001b[39mwc\u001b[38;5;241m.\u001b[39mgenerate(email_df[email_df[\u001b[38;5;124m\"\u001b[39m\u001b[38;5;124mtarget\u001b[39m\u001b[38;5;124m\"\u001b[39m]\u001b[38;5;241m==\u001b[39m\u001b[38;5;241m1\u001b[39m][\u001b[38;5;124m\"\u001b[39m\u001b[38;5;124mtransformed_message\u001b[39m\u001b[38;5;124m\"\u001b[39m]\u001b[38;5;241m.\u001b[39mstr\u001b[38;5;241m.\u001b[39mcat(sep\u001b[38;5;241m=\u001b[39m\u001b[38;5;124m\"\u001b[39m\u001b[38;5;124m \u001b[39m\u001b[38;5;124m\"\u001b[39m))\n\u001b[0;32m      3\u001b[0m plt\u001b[38;5;241m.\u001b[39mfigure(figsize\u001b[38;5;241m=\u001b[39m(\u001b[38;5;241m20\u001b[39m,\u001b[38;5;241m10\u001b[39m))\n\u001b[0;32m      4\u001b[0m plt\u001b[38;5;241m.\u001b[39mimshow(ham_wc)\n",
      "\u001b[1;31mNameError\u001b[0m: name 'wc' is not defined"
     ]
    }
   ],
   "source": [
    "#generate wordcloud plot for not-spam messages\n",
    "ham_wc=wc.generate(email_df[email_df[\"target\"]==1][\"transformed_message\"].str.cat(sep=\" \"))\n",
    "plt.figure(figsize=(20,10))\n",
    "plt.imshow(ham_wc)\n",
    "plt.show()"
   ]
  },
  {
   "cell_type": "code",
   "execution_count": 20,
   "id": "ca67f82b",
   "metadata": {
    "execution": {
     "iopub.execute_input": "2023-10-31T07:42:37.913862Z",
     "iopub.status.busy": "2023-10-31T07:42:37.913135Z",
     "iopub.status.idle": "2023-10-31T07:42:37.921181Z",
     "shell.execute_reply": "2023-10-31T07:42:37.920279Z"
    },
    "id": "4e4492f3",
    "papermill": {
     "duration": 0.037946,
     "end_time": "2023-10-31T07:42:37.923117",
     "exception": false,
     "start_time": "2023-10-31T07:42:37.885171",
     "status": "completed"
    },
    "tags": []
   },
   "outputs": [],
   "source": [
    "#used words in spam messages\n",
    "spam_corpus=list()\n",
    "for msg in email_df[email_df['target']==0][\"transformed_message\"].to_list():\n",
    "    for word in msg.split():\n",
    "        spam_corpus.append(word)"
   ]
  },
  {
   "cell_type": "code",
   "execution_count": 21,
   "id": "44b3d54b",
   "metadata": {
    "execution": {
     "iopub.execute_input": "2023-10-31T07:42:37.977265Z",
     "iopub.status.busy": "2023-10-31T07:42:37.976490Z",
     "iopub.status.idle": "2023-10-31T07:42:37.982264Z",
     "shell.execute_reply": "2023-10-31T07:42:37.981355Z"
    },
    "id": "08c5e812",
    "outputId": "2eae7c19-eb5a-4aeb-d266-2de5cdad3916",
    "papermill": {
     "duration": 0.035014,
     "end_time": "2023-10-31T07:42:37.984373",
     "exception": false,
     "start_time": "2023-10-31T07:42:37.949359",
     "status": "completed"
    },
    "tags": []
   },
   "outputs": [
    {
     "data": {
      "text/plain": [
       "9883"
      ]
     },
     "execution_count": 21,
     "metadata": {},
     "output_type": "execute_result"
    }
   ],
   "source": [
    "len(spam_corpus)"
   ]
  },
  {
   "cell_type": "code",
   "execution_count": 22,
   "id": "07963fd8",
   "metadata": {
    "execution": {
     "iopub.execute_input": "2023-10-31T07:42:38.040976Z",
     "iopub.status.busy": "2023-10-31T07:42:38.040333Z",
     "iopub.status.idle": "2023-10-31T07:42:38.053152Z",
     "shell.execute_reply": "2023-10-31T07:42:38.051557Z"
    },
    "id": "443c9104",
    "outputId": "ede18ad7-3a0b-4bc7-d5c1-01c96d2fe229",
    "papermill": {
     "duration": 0.04411,
     "end_time": "2023-10-31T07:42:38.055267",
     "exception": false,
     "start_time": "2023-10-31T07:42:38.011157",
     "status": "completed"
    },
    "tags": []
   },
   "outputs": [
    {
     "name": "stdout",
     "output_type": "stream",
     "text": [
      "           0    1\n",
      "0       call  320\n",
      "1       free  189\n",
      "2          2  155\n",
      "3        txt  141\n",
      "4       text  122\n",
      "5          u  119\n",
      "6         ur  119\n",
      "7      mobil  114\n",
      "8       stop  104\n",
      "9      repli  103\n",
      "10     claim   98\n",
      "11     prize   82\n",
      "12         4   76\n",
      "13       get   74\n",
      "14       new   64\n",
      "15    servic   64\n",
      "16      tone   63\n",
      "17      send   60\n",
      "18    urgent   57\n",
      "19     nokia   57\n",
      "20   contact   56\n",
      "21     award   55\n",
      "22     phone   52\n",
      "23      cash   51\n",
      "24     pleas   50\n",
      "25      week   49\n",
      "26       win   48\n",
      "27         c   45\n",
      "28   collect   45\n",
      "29       min   45\n",
      "30    custom   42\n",
      "31  guarante   42\n",
      "32    messag   40\n",
      "33       per   39\n",
      "34      chat   38\n",
      "35       tri   37\n",
      "36      draw   35\n",
      "37    number   35\n",
      "38        cs   35\n",
      "39       msg   34\n",
      "40      show   33\n",
      "41     today   33\n",
      "42     offer   33\n",
      "43      line   33\n",
      "44        go   32\n",
      "45    receiv   31\n",
      "46      want   31\n",
      "47    latest   30\n",
      "48   rington   30\n",
      "49   landlin   30\n"
     ]
    }
   ],
   "source": [
    "#print the most common 50 words from the spam category messages\n",
    "from collections import Counter\n",
    "spam_top_50_common_words=pd.DataFrame(Counter(spam_corpus).most_common(50))\n",
    "print(spam_top_50_common_words)"
   ]
  },
  {
   "cell_type": "code",
   "execution_count": 23,
   "id": "70120b9d",
   "metadata": {
    "execution": {
     "iopub.execute_input": "2023-10-31T07:42:38.119150Z",
     "iopub.status.busy": "2023-10-31T07:42:38.118179Z",
     "iopub.status.idle": "2023-10-31T07:42:38.133699Z",
     "shell.execute_reply": "2023-10-31T07:42:38.132948Z"
    },
    "id": "c1647e1a",
    "papermill": {
     "duration": 0.049372,
     "end_time": "2023-10-31T07:42:38.135803",
     "exception": false,
     "start_time": "2023-10-31T07:42:38.086431",
     "status": "completed"
    },
    "tags": []
   },
   "outputs": [],
   "source": [
    "#used words in ham messages\n",
    "ham_corpus=list()\n",
    "for msg in email_df[email_df['target']==1][\"transformed_message\"].to_list():\n",
    "    for word in msg.split():\n",
    "        ham_corpus.append(word)"
   ]
  },
  {
   "cell_type": "code",
   "execution_count": 24,
   "id": "f107268a",
   "metadata": {
    "execution": {
     "iopub.execute_input": "2023-10-31T07:42:38.193240Z",
     "iopub.status.busy": "2023-10-31T07:42:38.192686Z",
     "iopub.status.idle": "2023-10-31T07:42:38.198019Z",
     "shell.execute_reply": "2023-10-31T07:42:38.197057Z"
    },
    "id": "17628067",
    "outputId": "9bd97980-c957-4c03-f555-1b00b56c782a",
    "papermill": {
     "duration": 0.035632,
     "end_time": "2023-10-31T07:42:38.200150",
     "exception": false,
     "start_time": "2023-10-31T07:42:38.164518",
     "status": "completed"
    },
    "tags": []
   },
   "outputs": [
    {
     "data": {
      "text/plain": [
       "34771"
      ]
     },
     "execution_count": 24,
     "metadata": {},
     "output_type": "execute_result"
    }
   ],
   "source": [
    "len(ham_corpus)"
   ]
  },
  {
   "cell_type": "code",
   "execution_count": 25,
   "id": "728195c0",
   "metadata": {
    "execution": {
     "iopub.execute_input": "2023-10-31T07:42:38.254759Z",
     "iopub.status.busy": "2023-10-31T07:42:38.254235Z",
     "iopub.status.idle": "2023-10-31T07:42:38.267814Z",
     "shell.execute_reply": "2023-10-31T07:42:38.266430Z"
    },
    "id": "4138cf80",
    "outputId": "27d79acd-6c33-48ff-e528-28baadceef89",
    "papermill": {
     "duration": 0.042884,
     "end_time": "2023-10-31T07:42:38.269888",
     "exception": false,
     "start_time": "2023-10-31T07:42:38.227004",
     "status": "completed"
    },
    "tags": []
   },
   "outputs": [
    {
     "name": "stdout",
     "output_type": "stream",
     "text": [
      "        0    1\n",
      "0       u  871\n",
      "1      go  401\n",
      "2     get  349\n",
      "3      gt  288\n",
      "4      lt  287\n",
      "5       2  284\n",
      "6    come  272\n",
      "7     got  236\n",
      "8    like  234\n",
      "9    know  234\n",
      "10   call  232\n",
      "11   time  217\n",
      "12   good  212\n",
      "13   want  208\n",
      "14     ok  207\n",
      "15   love  206\n",
      "16     ur  197\n",
      "17    day  184\n",
      "18   need  170\n",
      "19    one  164\n",
      "20      4  155\n",
      "21    lor  153\n",
      "22  think  149\n",
      "23   home  149\n",
      "24    see  145\n",
      "25  still  142\n",
      "26   take  141\n",
      "27     da  133\n",
      "28   tell  133\n",
      "29   make  129\n",
      "30    say  127\n",
      "31   back  126\n",
      "32   hope  122\n",
      "33    ask  121\n",
      "34      n  120\n",
      "35  sorri  120\n",
      "36   send  120\n",
      "37      r  120\n",
      "38   dont  118\n",
      "39   work  117\n",
      "40  today  116\n",
      "41   meet  112\n",
      "42     hi  110\n",
      "43  thing  108\n",
      "44   well  107\n",
      "45   much  107\n",
      "46  night  107\n",
      "47     oh  106\n",
      "48    wat  103\n",
      "49   miss  102\n"
     ]
    }
   ],
   "source": [
    "#most commnaly used 50 words from ham category messages\n",
    "ham_top_50_common_words=pd.DataFrame(Counter(ham_corpus).most_common(50))\n",
    "print(ham_top_50_common_words)"
   ]
  },
  {
   "cell_type": "markdown",
   "id": "4d3ada38",
   "metadata": {
    "id": "00b569bf",
    "papermill": {
     "duration": 0.026897,
     "end_time": "2023-10-31T07:42:38.323204",
     "exception": false,
     "start_time": "2023-10-31T07:42:38.296307",
     "status": "completed"
    },
    "tags": []
   },
   "source": [
    "# Data Transformation\n",
    "    Using Count Vectorization"
   ]
  },
  {
   "cell_type": "code",
   "execution_count": 26,
   "id": "167809d1",
   "metadata": {
    "execution": {
     "iopub.execute_input": "2023-10-31T07:42:38.382259Z",
     "iopub.status.busy": "2023-10-31T07:42:38.381457Z",
     "iopub.status.idle": "2023-10-31T07:42:38.558025Z",
     "shell.execute_reply": "2023-10-31T07:42:38.557145Z"
    },
    "id": "50804803",
    "papermill": {
     "duration": 0.208759,
     "end_time": "2023-10-31T07:42:38.560680",
     "exception": false,
     "start_time": "2023-10-31T07:42:38.351921",
     "status": "completed"
    },
    "tags": []
   },
   "outputs": [],
   "source": [
    "from sklearn.feature_extraction.text import CountVectorizer\n",
    "cVector=CountVectorizer() #CountVectorizer is used to convert text into numeric array\n",
    "x=cVector.fit_transform(email_df[\"transformed_message\"]).toarray()"
   ]
  },
  {
   "cell_type": "code",
   "execution_count": 27,
   "id": "65627eb5",
   "metadata": {
    "execution": {
     "iopub.execute_input": "2023-10-31T07:42:38.618412Z",
     "iopub.status.busy": "2023-10-31T07:42:38.618060Z",
     "iopub.status.idle": "2023-10-31T07:42:38.622248Z",
     "shell.execute_reply": "2023-10-31T07:42:38.621504Z"
    },
    "id": "3c2fcd97",
    "papermill": {
     "duration": 0.03526,
     "end_time": "2023-10-31T07:42:38.624211",
     "exception": false,
     "start_time": "2023-10-31T07:42:38.588951",
     "status": "completed"
    },
    "tags": []
   },
   "outputs": [],
   "source": [
    "#seperating target column\n",
    "y=email_df['target']"
   ]
  },
  {
   "cell_type": "code",
   "execution_count": 28,
   "id": "621ef093",
   "metadata": {
    "execution": {
     "iopub.execute_input": "2023-10-31T07:42:38.681091Z",
     "iopub.status.busy": "2023-10-31T07:42:38.680474Z",
     "iopub.status.idle": "2023-10-31T07:42:38.901563Z",
     "shell.execute_reply": "2023-10-31T07:42:38.900227Z"
    },
    "id": "43aedba0",
    "outputId": "7ef9f5ba-48d9-4e47-c628-a21649d47807",
    "papermill": {
     "duration": 0.253015,
     "end_time": "2023-10-31T07:42:38.905319",
     "exception": false,
     "start_time": "2023-10-31T07:42:38.652304",
     "status": "completed"
    },
    "tags": []
   },
   "outputs": [
    {
     "data": {
      "image/png": "[encoded data removed]",
      "text/plain": [
       "<Figure size 640x480 with 1 Axes>"
      ]
     },
     "metadata": {},
     "output_type": "display_data"
    }
   ],
   "source": [
    "#check the distribution of target variable using Pie chart\n",
    "plt.pie(y.value_counts().values,labels=[\"Not Spam\",\"Spam\"],autopct=\"%0.2f%%\")\n",
    "plt.show()"
   ]
  },
  {
   "cell_type": "markdown",
   "id": "d5b1c47f",
   "metadata": {
    "id": "bbdaed87",
    "papermill": {
     "duration": 0.03332,
     "end_time": "2023-10-31T07:42:38.996190",
     "exception": false,
     "start_time": "2023-10-31T07:42:38.962870",
     "status": "completed"
    },
    "tags": []
   },
   "source": [
    "Conclusion : as we can see our dataset is imbalanced."
   ]
  },
  {
   "cell_type": "markdown",
   "id": "5913c009",
   "metadata": {
    "id": "067fb1e4",
    "papermill": {
     "duration": 0.02757,
     "end_time": "2023-10-31T07:42:39.053032",
     "exception": false,
     "start_time": "2023-10-31T07:42:39.025462",
     "status": "completed"
    },
    "tags": []
   },
   "source": [
    "# Spliting data into Training and Testing sets into 80/20 ratio"
   ]
  },
  {
   "cell_type": "code",
   "execution_count": 29,
   "id": "7f744a2c",
   "metadata": {
    "execution": {
     "iopub.execute_input": "2023-10-31T07:42:39.108917Z",
     "iopub.status.busy": "2023-10-31T07:42:39.108572Z",
     "iopub.status.idle": "2023-10-31T07:42:39.290875Z",
     "shell.execute_reply": "2023-10-31T07:42:39.289918Z"
    },
    "id": "714e834f",
    "outputId": "c6f8055c-1d5f-43b7-ad20-b119b29e0aed",
    "papermill": {
     "duration": 0.212369,
     "end_time": "2023-10-31T07:42:39.293047",
     "exception": false,
     "start_time": "2023-10-31T07:42:39.080678",
     "status": "completed"
    },
    "tags": []
   },
   "outputs": [
    {
     "data": {
      "text/plain": [
       "((4135, 6629), (4135,), (1034, 6629), (1034,))"
      ]
     },
     "execution_count": 29,
     "metadata": {},
     "output_type": "execute_result"
    }
   ],
   "source": [
    "from sklearn.model_selection import train_test_split\n",
    "x_train,x_test,y_train,y_test=train_test_split(x,y,test_size=0.2,random_state=43)\n",
    "x_train.shape,y_train.shape,x_test.shape,y_test.shape"
   ]
  },
  {
   "cell_type": "code",
   "execution_count": 30,
   "id": "c59d6637",
   "metadata": {
    "execution": {
     "iopub.execute_input": "2023-10-31T07:42:39.351997Z",
     "iopub.status.busy": "2023-10-31T07:42:39.351591Z",
     "iopub.status.idle": "2023-10-31T07:42:39.359354Z",
     "shell.execute_reply": "2023-10-31T07:42:39.358541Z"
    },
    "id": "f0d7765c",
    "papermill": {
     "duration": 0.039826,
     "end_time": "2023-10-31T07:42:39.361371",
     "exception": false,
     "start_time": "2023-10-31T07:42:39.321545",
     "status": "completed"
    },
    "tags": []
   },
   "outputs": [],
   "source": [
    "from sklearn.metrics import accuracy_score,precision_score,recall_score,f1_score,confusion_matrix,classification_report\n",
    "\n",
    "#function to evaluate the performance of model\n",
    "def evaluate_model_performance(model,x_test,y_test):\n",
    "    y_pred=model.predict(x_test)\n",
    "    print(\"Accurary Score : {}\".format(np.round(accuracy_score(y_test,y_pred)*100,decimals=2)))\n",
    "    print(\"Precision Score : {}\".format(np.round(precision_score(y_test,y_pred)*100,decimals=2)))\n",
    "    print(\"Recall Score : {}\".format(np.round(recall_score(y_test,y_pred)*100,decimals=2)))\n",
    "    print(\"F1 Score : {}\".format(np.round(f1_score(y_test,y_pred)*100,decimals=2)))\n",
    "    cm=confusion_matrix(y_test,y_pred)\n",
    "    sns.heatmap(cm,fmt=\"d\",annot=True,cmap=\"rainbow\")\n",
    "    plt.show()\n",
    "    print(\"*Classification Report*********************************************\")\n",
    "    print(classification_report(y_test,y_pred))"
   ]
  },
  {
   "cell_type": "code",
   "execution_count": 31,
   "id": "e0eab4f5",
   "metadata": {
    "execution": {
     "iopub.execute_input": "2023-10-31T07:42:39.418998Z",
     "iopub.status.busy": "2023-10-31T07:42:39.418143Z",
     "iopub.status.idle": "2023-10-31T07:42:40.848109Z",
     "shell.execute_reply": "2023-10-31T07:42:40.846528Z"
    },
    "id": "dd3cc0c7",
    "papermill": {
     "duration": 1.46173,
     "end_time": "2023-10-31T07:42:40.850858",
     "exception": false,
     "start_time": "2023-10-31T07:42:39.389128",
     "status": "completed"
    },
    "tags": []
   },
   "outputs": [],
   "source": [
    "#import models\n",
    "from sklearn.linear_model import LogisticRegression\n",
    "from sklearn.naive_bayes import MultinomialNB\n",
    "from sklearn.svm import SVC\n",
    "from sklearn.neighbors import KNeighborsClassifier\n",
    "from sklearn.tree import DecisionTreeClassifier\n",
    "from sklearn.ensemble import RandomForestClassifier\n",
    "from sklearn.ensemble import AdaBoostClassifier\n",
    "from sklearn.ensemble import GradientBoostingClassifier\n",
    "from lightgbm import LGBMClassifier\n",
    "from xgboost import XGBClassifier\n",
    "from sklearn.model_selection import cross_val_score"
   ]
  },
  {
   "cell_type": "code",
   "execution_count": 32,
   "id": "d59c81de",
   "metadata": {
    "execution": {
     "iopub.execute_input": "2023-10-31T07:42:40.909635Z",
     "iopub.status.busy": "2023-10-31T07:42:40.909293Z",
     "iopub.status.idle": "2023-10-31T07:43:26.641063Z",
     "shell.execute_reply": "2023-10-31T07:43:26.640057Z"
    },
    "id": "32d87f2e",
    "outputId": "745886ac-dde9-4938-9f41-3cb028bfd594",
    "papermill": {
     "duration": 45.763727,
     "end_time": "2023-10-31T07:43:26.643251",
     "exception": false,
     "start_time": "2023-10-31T07:42:40.879524",
     "status": "completed"
    },
    "tags": []
   },
   "outputs": [
    {
     "name": "stdout",
     "output_type": "stream",
     "text": [
      "lr  :  94.4\n",
      "nb  :  97.4\n",
      "svm  :  89.2\n",
      "knn  :  85.8\n",
      "cart  :  92.2\n",
      "rf  :  92.0\n",
      "ad  :  93.8\n",
      "gb  :  94.4\n",
      "xgbc  :  94.2\n"
     ]
    },
    {
     "data": {
      "image/png": "[encoded data removed]",
      "text/plain": [
       "<Figure size 640x480 with 1 Axes>"
      ]
     },
     "metadata": {},
     "output_type": "display_data"
    }
   ],
   "source": [
    "from sklearn.model_selection import StratifiedKFold\n",
    "from imblearn.over_sampling import RandomOverSampler\n",
    "\n",
    "# Define models\n",
    "models = {\n",
    "    \"lr\":LogisticRegression(),\n",
    "    \"nb\":MultinomialNB(),\n",
    "    \"svm\":SVC(),\n",
    "    \"knn\":KNeighborsClassifier(),\n",
    "    \"cart\":DecisionTreeClassifier(),\n",
    "    \"rf\":RandomForestClassifier(),\n",
    "    \"ad\":AdaBoostClassifier(),\n",
    "    \"gb\":GradientBoostingClassifier(),\n",
    "    \"xgbc\":XGBClassifier()\n",
    "}\n",
    "\n",
    "# Define oversampler for dealing with imbalance\n",
    "oversampler = RandomOverSampler()\n",
    "\n",
    "# Define cross-validation strategy for imbalanced data\n",
    "cv = StratifiedKFold(n_splits=5, shuffle=True, random_state=42)\n",
    "\n",
    "model_scores=list()\n",
    "# Loop through each model and evaluate its performance\n",
    "for model_name, model in models.items():\n",
    "    # Apply oversampling to training data\n",
    "    X_resampled, y_resampled = oversampler.fit_resample(x, y)\n",
    "\n",
    "    # Perform cross-validation\n",
    "    scores = cross_val_score(model, X_resampled[:500], y_resampled[:500], cv=cv, scoring=\"f1_micro\")\n",
    "    print(model_name,\" : \",np.round(np.mean(scores)*100,decimals=2))\n",
    "    model_scores.append(scores)\n",
    "# boxplot algorithm comparison\n",
    "fig = plt.figure()\n",
    "fig.suptitle('Algorithm Comparison')\n",
    "ax = fig.add_subplot(111)\n",
    "plt.boxplot(model_scores)\n",
    "ax.set_xticklabels(models.keys())\n",
    "plt.show()"
   ]
  },
  {
   "cell_type": "markdown",
   "id": "90686a85",
   "metadata": {
    "id": "5gI_VUeYx88M",
    "papermill": {
     "duration": 0.029097,
     "end_time": "2023-10-31T07:43:26.701855",
     "exception": false,
     "start_time": "2023-10-31T07:43:26.672758",
     "status": "completed"
    },
    "tags": []
   },
   "source": [
    "Conclusion : by analysing the performance of all base models we can say naive bayes and GradientBoostingClassifier are best for our dataset so here i am going to consider naive bayes as final out of all models."
   ]
  },
  {
   "cell_type": "code",
   "execution_count": 33,
   "id": "735e37b2",
   "metadata": {
    "execution": {
     "iopub.execute_input": "2023-10-31T07:43:26.761971Z",
     "iopub.status.busy": "2023-10-31T07:43:26.760627Z",
     "iopub.status.idle": "2023-10-31T07:43:27.149317Z",
     "shell.execute_reply": "2023-10-31T07:43:27.148047Z"
    },
    "id": "SLKFL3IaygRe",
    "outputId": "2be5661f-4190-4ed5-ec70-849a0314f142",
    "papermill": {
     "duration": 0.42206,
     "end_time": "2023-10-31T07:43:27.153246",
     "exception": false,
     "start_time": "2023-10-31T07:43:26.731186",
     "status": "completed"
    },
    "tags": []
   },
   "outputs": [
    {
     "name": "stdout",
     "output_type": "stream",
     "text": [
      "Model Training score :  0.992261185006046\n"
     ]
    }
   ],
   "source": [
    "#training our final Multinomial Naive Bayes model\n",
    "model=MultinomialNB()\n",
    "model.fit(x_train,y_train)\n",
    "print(\"Model Training score : \",model.score(x_train,y_train))"
   ]
  },
  {
   "cell_type": "code",
   "execution_count": 34,
   "id": "c3fb36ce",
   "metadata": {
    "execution": {
     "iopub.execute_input": "2023-10-31T07:43:27.271054Z",
     "iopub.status.busy": "2023-10-31T07:43:27.270639Z",
     "iopub.status.idle": "2023-10-31T07:43:27.671188Z",
     "shell.execute_reply": "2023-10-31T07:43:27.669917Z"
    },
    "id": "HSfvl1T-y1VZ",
    "outputId": "df9ce3f4-7f96-46a7-bf14-a6ab5cb0b48e",
    "papermill": {
     "duration": 0.460845,
     "end_time": "2023-10-31T07:43:27.673419",
     "exception": false,
     "start_time": "2023-10-31T07:43:27.212574",
     "status": "completed"
    },
    "tags": []
   },
   "outputs": [
    {
     "name": "stdout",
     "output_type": "stream",
     "text": [
      "Accurary Score : 97.58\n",
      "Precision Score : 98.88\n",
      "Recall Score : 98.32\n",
      "F1 Score : 98.6\n"
     ]
    },
    {
     "data": {
      "image/png": "[encoded data removed]",
      "text/plain": [
       "<Figure size 640x480 with 2 Axes>"
      ]
     },
     "metadata": {},
     "output_type": "display_data"
    },
    {
     "name": "stdout",
     "output_type": "stream",
     "text": [
      "*Classification Report*********************************************\n",
      "              precision    recall  f1-score   support\n",
      "\n",
      "           0       0.90      0.93      0.91       139\n",
      "           1       0.99      0.98      0.99       895\n",
      "\n",
      "    accuracy                           0.98      1034\n",
      "   macro avg       0.94      0.96      0.95      1034\n",
      "weighted avg       0.98      0.98      0.98      1034\n",
      "\n"
     ]
    }
   ],
   "source": [
    "#model performance\n",
    "evaluate_model_performance(model,x_test,y_test)"
   ]
  }
 ],
 "metadata": {
  "kernelspec": {
   "display_name": "Python 3 (ipykernel)",
   "language": "python",
   "name": "python3"
  },
  "language_info": {
   "codemirror_mode": {
    "name": "ipython",
    "version": 3
   },
   "file_extension": ".py",
   "mimetype": "text/x-python",
   "name": "python",
   "nbconvert_exporter": "python",
   "pygments_lexer": "ipython3",
   "version": "3.11.5"
  },
  "papermill": {
   "default_parameters": {},
   "duration": 66.284211,
   "end_time": "2023-10-31T07:43:28.423991",
   "environment_variables": {},
   "exception": null,
   "input_path": "__notebook__.ipynb",
   "output_path": "__notebook__.ipynb",
   "parameters": {},
   "start_time": "2023-10-31T07:42:22.139780",
   "version": "2.4.0"
  }
 },
 "nbformat": 4,
 "nbformat_minor": 5
}
